{
 "cells": [
  {
   "cell_type": "markdown",
   "metadata": {},
   "source": [
    "## Simulation of the expression of a single Gaussian Process Neuron and its interpretation\n",
    "\n",
    "Consider the following random variable $y$:\n",
    "$$\n",
    "    y=\\int fp(x)dx, \\quad f\\sim\\mathcal{GP}(m(\\cdot), k(\\cdot, \\cdot))\n",
    "$$\n",
    "where\n",
    "$$\n",
    "\\begin{aligned}\n",
    "    m(x)&=0 \\\\\n",
    "    k(x,x')&=s^2 \\exp(-\\frac{(x-x')^2}{2l^2})=\\sqrt{2\\pi}s^2l\\mathcal{N}(x|x',l^2) \\\\\n",
    "    p(x)&=\\mathcal{N}(x|\\mu_x,\\sigma_x^2)\n",
    "\\end{aligned}\n",
    "$$\n",
    "Then the expression for $y$ is as follows:\n",
    "\\begin{equation*}\n",
    "\\begin{aligned}\n",
    "    y&\\sim\\mathcal{N}(\\mu_y, \\sigma_y^2) \\\\\n",
    "    \\mu_y&=\\sqrt{2\\pi}s^2l\\boldsymbol{q}_{xh}(K_{hh}+\\sigma_n^2 I)^{-1}\\boldsymbol{h} \\\\\n",
    "    \\sigma_y^2&=\\frac{s^2l}{\\sqrt{l^2+2\\sigma_x^2}} - 2\\pi s^4 l^2 \\boldsymbol{q}_{xh}(K_{hh}+\\sigma_n^2 I)^{-1}\\boldsymbol{q}_{hx} \\\\\n",
    "    \\text{where }\\boldsymbol{q}_{xh}^T&=\\boldsymbol{q}_{hx}=\\begin{bmatrix}\n",
    "        \\mathcal{N}(z_1|\\mu_x,\\sigma_x^2+l^2) \\\\\n",
    "        \\mathcal{N}(z_2|\\mu_x,\\sigma_x^2+l^2) \\\\\n",
    "        \\vdots\n",
    "    \\end{bmatrix}\n",
    "\\end{aligned}\n",
    "\\tag{1}\n",
    "\\end{equation*}"
   ]
  },
  {
   "cell_type": "markdown",
   "metadata": {},
   "source": [
    "This expression for $y$ can be interpreted as the following steps:\n",
    "1. Draw $\\boldsymbol{x}=[x_1\\space x_2\\space ... \\space x_n]^T$ from $x_i\\sim \\mathcal{N}(\\mu_x,\\sigma_x^2)$\n",
    "2. Compute the predictive posterior $p(\\boldsymbol{f}|\\boldsymbol{h},\\boldsymbol{z})$ at locations $\\boldsymbol{x}$, for $f\\sim\\mathcal{GP}(m(\\cdot),k(\\cdot,\\cdot))$, ie. \n",
    "$$\n",
    "\\begin{aligned}\n",
    "    p(\\boldsymbol{f}|\\boldsymbol{h},\\boldsymbol{z})&=\\mathcal{N}(\\mu_f,\\Sigma_f) \\\\\n",
    "    \\mu_f&=K_{fh}(K_{hh} + \\sigma_n^2I)^{-1}\\boldsymbol{h} \\\\\n",
    "    \\Sigma_f&=K_{ff} - K_{fh}(K_{hh} + \\sigma_n^2I)^{-1}K_{hf}\n",
    "\\end{aligned}\n",
    "$$\n",
    "3. Draw a sample $\\boldsymbol{f}\\sim p(\\boldsymbol{f}|\\boldsymbol{h},\\boldsymbol{z})$ and take $y=\\frac{1}{n}\\sum_{i=1}^{n}f_i$"
   ]
  },
  {
   "cell_type": "markdown",
   "metadata": {},
   "source": [
    "The following code will simulate the steps above to verify the analytical results"
   ]
  },
  {
   "cell_type": "code",
   "execution_count": 1,
   "metadata": {},
   "outputs": [],
   "source": [
    "import numpy as np\n",
    "\n",
    "# Define a distribution for x\n",
    "x_mean = 0\n",
    "x_var = 1   # square of std_dev\n",
    "N = 500     # set sample size\n",
    "\n",
    "# Define some known GP points\n",
    "N_known = 10                                            # set size of known GP points\n",
    "h = np.random.rand(N_known)\n",
    "z = np.random.normal(x_mean, x_var**0.5, N_known)   # known locations should be in the same region as the sample x\n",
    "\n",
    "# Define label noise\n",
    "sigma_n = 0.01\n",
    "\n",
    "# Define the squared exponential covariance function\n",
    "s = 1     # signal strength\n",
    "l = 0.5   # lengthscale\n",
    "def se_covar(z1, z2):\n",
    "    return s**2 * np.exp(-(z1-z2)**2 / (2 * l**2))\n",
    "\n",
    "# Define a utility function to obtain the covariance matrix\n",
    "def k_matrix(z1, z2, covar_func):\n",
    "    \"\"\"a, b are 1-D vectors, and covar_func should be broadcastable\"\"\"\n",
    "    assert len(z1.shape) == 1\n",
    "    assert len(z2.shape) == 1\n",
    "    N1 = z1.shape[0]\n",
    "    N2 = z2.shape[0]\n",
    "    z1_repeat = np.tile(z1, N2).reshape(N2, N1).T.reshape(N1 * N2)\n",
    "    z2_repeat = np.tile(z2, N1)\n",
    "    k_matrix = covar_func(z1_repeat, z2_repeat)\n",
    "    return k_matrix.reshape(N1, N2)"
   ]
  },
  {
   "cell_type": "markdown",
   "metadata": {},
   "source": [
    "Next, set up the GP posterior distribution and get samples of y. Note that this step's computational complexity grows $\\mathcal{O}(N^3)$ to sample size $N$, so it might take some time to run"
   ]
  },
  {
   "cell_type": "code",
   "execution_count": 2,
   "metadata": {},
   "outputs": [],
   "source": [
    "K_hh = k_matrix(z, z, se_covar)\n",
    "K_hh_noise = K_hh + sigma_n**2 * np.eye(K_hh.shape[0])\n",
    "\n",
    "# invert using cholesky decomposition for numerical stability\n",
    "L = np.linalg.cholesky(K_hh_noise)\n",
    "L_inv = np.linalg.inv(L)\n",
    "K_hh_noise_inv = L_inv.T @ L_inv\n",
    "\n",
    "y_samples = []\n",
    "for _ in range(100):\n",
    "    # draw a sample of x\n",
    "    x = np.random.normal(x_mean, x_var**0.5, N) \n",
    "\n",
    "    # compute the covariance matrices\n",
    "    K_fh = k_matrix(x, z, se_covar)\n",
    "    K_ff = k_matrix(x, x, se_covar)\n",
    "    \n",
    "    # GP posterior mean\n",
    "    mu_f = K_fh @ K_hh_noise_inv @ h.reshape(-1, 1)\n",
    "    # GP posterior var\n",
    "    A = K_fh @ L_inv.T\n",
    "    var_f = K_ff - A @ A.T\n",
    "\n",
    "    # get a sample of f, and compute y\n",
    "    f = np.random.multivariate_normal(mu_f.reshape(-1), var_f)\n",
    "    y = np.mean(f)\n",
    "    y_samples.append(y)"
   ]
  },
  {
   "cell_type": "markdown",
   "metadata": {},
   "source": [
    "Next, compute analytically the mean and var of $y$ using Equation 1, and compare it with the empirical mean, var"
   ]
  },
  {
   "cell_type": "code",
   "execution_count": 3,
   "metadata": {},
   "outputs": [
    {
     "name": "stdout",
     "output_type": "stream",
     "text": [
      "analytical mean 0.3062615415340534\n",
      "analytical var  0.0004325050380444284\n",
      "empirical mean  0.30606778349236735\n",
      "empirical var   0.0006015052365239453\n"
     ]
    }
   ],
   "source": [
    "def normal_pdf(val, mean, var):\n",
    "    return (1 / np.sqrt(2 * np.pi * var)) * np.exp(-0.5 * ((val - mean) ** 2) / var)\n",
    "    \n",
    "q_func = lambda val, mean: normal_pdf(val, mean, x_var + l**2)\n",
    "q_xh = k_matrix(np.array([x_mean]), z, q_func)\n",
    "\n",
    "mu_y = np.sqrt(2 * np.pi) * s**2 * l * q_xh @ K_hh_noise_inv @ h.reshape(-1, 1)\n",
    "var_y = (s**2 * l) / np.sqrt(l**2 + 2 * x_var) - 2 * np.pi * s**4 * l**2 * q_xh @ K_hh_noise_inv @ q_xh.T\n",
    "\n",
    "print(\"analytical mean\", mu_y.item())\n",
    "print(\"analytical var \", var_y.item())\n",
    "print(\"empirical mean \", np.mean(y_samples))\n",
    "print(\"empirical var  \", np.var(y_samples))"
   ]
  },
  {
   "cell_type": "markdown",
   "metadata": {},
   "source": [
    "Repeat this run for different values of $\\mu_x,\\sigma_x^2$ and GP known points $\\boldsymbol{h},\\boldsymbol{z}$ and plot the results"
   ]
  },
  {
   "cell_type": "code",
   "execution_count": 4,
   "metadata": {},
   "outputs": [
    {
     "name": "stderr",
     "output_type": "stream",
     "text": [
      "  0%|          | 0/30 [00:00<?, ?it/s]"
     ]
    },
    {
     "name": "stderr",
     "output_type": "stream",
     "text": [
      "100%|██████████| 30/30 [02:18<00:00,  4.60s/it]\n"
     ]
    }
   ],
   "source": [
    "def run(_x_mean, _x_var):\n",
    "    \"\"\"wrap a full run into a function returning the analytical and empirical y_mean, y_var\"\"\"\n",
    "    _h = np.random.rand(N_known)\n",
    "    _z = np.random.normal(_x_mean, _x_var**0.5, N_known) # known locations should be in the same region as the sample x\n",
    "\n",
    "    _K_hh = k_matrix(_z, _z, se_covar)\n",
    "    _K_hh_noise = _K_hh + sigma_n**2 * np.eye(_K_hh.shape[0])\n",
    "\n",
    "    # invert using cholesky decomposition for numerical stability\n",
    "    _L = np.linalg.cholesky(_K_hh_noise)\n",
    "    _L_inv = np.linalg.inv(_L)\n",
    "    _K_hh_noise_inv = _L_inv.T @ _L_inv\n",
    "\n",
    "    _y_samples = []\n",
    "    for _ in range(100):\n",
    "        # draw a sample of x\n",
    "        _x = np.random.normal(_x_mean, _x_var**0.5, N) \n",
    "        # compute the covariance matrices\n",
    "        _K_fh = k_matrix(_x, _z, se_covar)\n",
    "        _K_ff = k_matrix(_x, _x, se_covar)\n",
    "        # GP posterior mean\n",
    "        _mu_f = _K_fh @ _K_hh_noise_inv @ _h.reshape(-1, 1)\n",
    "        # GP posterior var\n",
    "        _A = _K_fh @ _L_inv.T\n",
    "        _var_f = _K_ff - _A @ _A.T\n",
    "        # get a sample of f, and compute y\n",
    "        _f = np.random.multivariate_normal(_mu_f.reshape(-1), _var_f)\n",
    "        _y = np.mean(_f)\n",
    "        _y_samples.append(_y)\n",
    "    \n",
    "    y_mean_emp = np.mean(_y_samples)\n",
    "    y_var_emp = np.var(_y_samples)\n",
    "\n",
    "    # analytical expr\n",
    "    _q_func = lambda val, mean: normal_pdf(val, mean, _x_var + l**2)\n",
    "    _q_xh = k_matrix(np.array([_x_mean]), _z, _q_func)\n",
    "    y_mean_anl = np.sqrt(2 * np.pi) * s**2 * l * _q_xh @ _K_hh_noise_inv @ _h.reshape(-1, 1)\n",
    "    y_var_anl = (s**2 * l) / np.sqrt(l**2 + 2 * _x_var) - 2 * np.pi * s**4 * l**2 * _q_xh @ _K_hh_noise_inv @ _q_xh.T\n",
    "\n",
    "    return y_mean_emp, y_var_emp, y_mean_anl.item(), y_var_anl.item()\n",
    "\n",
    "\n",
    "# repeat for different x_means, x_vars\n",
    "y_mean_emps = []\n",
    "y_var_emps = []\n",
    "y_mean_anls = []\n",
    "y_var_anls = []\n",
    "import tqdm # for progress bar\n",
    "\n",
    "for _ in tqdm.tqdm(range(30)):\n",
    "    x_mean_sample = np.random.rand() * 6 - 3 # [-3, 3]\n",
    "    x_var_sample = np.random.rand() * 3 + 1     # [1, 4]\n",
    "\n",
    "    result = run(x_mean_sample, x_var_sample)\n",
    "    y_mean_emps.append(result[0])\n",
    "    y_var_emps.append(result[1])\n",
    "    y_mean_anls.append(result[2])\n",
    "    y_var_anls.append(result[3])\n",
    "\n"
   ]
  },
  {
   "cell_type": "markdown",
   "metadata": {},
   "source": [
    "Plot the run graphs"
   ]
  },
  {
   "cell_type": "code",
   "execution_count": 26,
   "metadata": {},
   "outputs": [
    {
     "data": {
      "image/png": "[encoded data removed]",
      "text/plain": [
       "<Figure size 600x300 with 2 Axes>"
      ]
     },
     "metadata": {},
     "output_type": "display_data"
    }
   ],
   "source": [
    "import matplotlib.pyplot as plt\n",
    "\n",
    "fig, (ax_mean, ax_var) = plt.subplots(1, 2)\n",
    "\n",
    "ax_mean.scatter(y_mean_emps, y_mean_anls, marker=\"x\")\n",
    "ax_mean.set_title(\"mean\")\n",
    "ax_mean.set_ylabel(\"empirical\")\n",
    "ax_mean.set_xlabel(\"analytical\")\n",
    "\n",
    "ax_var.scatter(y_var_emps, y_var_anls, marker=\"x\")\n",
    "ax_var.set_title(\"variance\")\n",
    "ax_var.set_ylabel(\"empirical\")\n",
    "ax_var.set_xlabel(\"analytical\")\n",
    "\n",
    "fig.set_figwidth(6)\n",
    "fig.set_figheight(3)\n",
    "fig.tight_layout()"
   ]
  },
  {
   "cell_type": "code",
   "execution_count": null,
   "metadata": {},
   "outputs": [],
   "source": []
  }
 ],
 "metadata": {
  "kernelspec": {
   "display_name": "Python 3",
   "language": "python",
   "name": "python3"
  },
  "language_info": {
   "codemirror_mode": {
    "name": "ipython",
    "version": 3
   },
   "file_extension": ".py",
   "mimetype": "text/x-python",
   "name": "python",
   "nbconvert_exporter": "python",
   "pygments_lexer": "ipython3",
   "version": "3.10.12"
  }
 },
 "nbformat": 4,
 "nbformat_minor": 2
}
