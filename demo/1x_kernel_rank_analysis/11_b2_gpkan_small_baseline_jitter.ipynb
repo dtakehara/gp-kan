{
 "cells": [
  {
   "cell_type": "markdown",
   "id": "30117693",
   "metadata": {},
   "source": [
    "# GP-KANの学習安定化方法調査: b.正規化項調整"
   ]
  },
  {
   "cell_type": "markdown",
   "id": "7ab63356",
   "metadata": {},
   "source": [
    "## 0.背景/目的\n",
    "GP-KANの学習(誘導点・カーネルパラメータの同時学習)時、処理がうまくいかない現象が発生していた。\n",
    "\n",
    "原因として考えられるのは以下の通り：\n",
    "\n",
    "* a. カーネル行列のJitter項が大きい※1ため、出力層以外の誘導点が縦に並んでいる(x軸:入力,y軸:中間層出力)\n",
    "* b. バッチサイズが小さいことで、ミニバッチデータに偏りが生じる\n",
    "* c. 損失関数(負の対数尤度)は誘導点が近いほど小さい値を取るため、カーネル行列が縮退しやすい\n",
    "\n",
    "※1. 関数値を取る確率変数 $f\\sim GP(m(\\cdot),k(\\cdot, \\cdot))$ と独立なノイズが多く含まれることに相当する。\n",
    "ここで、GPの出力 $y$ に対して\n",
    "$$\n",
    "y = f(x)+\\epsilon,\\ \\ \\  \\epsilon\\sim \\mathcal{N}(0, \\sigma_\\epsilon^2)\n",
    "$$\n",
    "\n",
    "そのため、以下の追加実験を行いGP-KANの学習が安定しない原因のあたりをつける。\n",
    "\n",
    "* a. Jitter項のパラメータ設定値を小さくして学習実行\n",
    "* b. バッチサイズ(現在32; 学習データ全体750件)を小さくする\n",
    "* c. 誘導点が近づかないようなペナルティ項入れて学習\n",
    "\n",
    "本notebookでは、<span style=\"color: red;\">b.の検証として</span>以下設定で学習を行い結果を評価する：\n",
    "### モデル構成\n",
    "- **ネットワーク構造**: 2層GP-KAN (入力1次元 → 中間層1次元 → 出力1次元)\n",
    "- **誘導点数**: 各GPあたり10点\n",
    "- **GP構成**: (0,0), (1,0) の2つのガウス過程\n",
    "\n",
    "### 学習パラメータ\n",
    "- **エポック数**: 400エポック\n",
    "- **学習率**: 1e-5\n",
    "- **バッチサイズ**: 32\n",
    "- **事前学習**: 無効 (pretrain=False)\n",
    "\n",
    "### 正則化パラメータ\n",
    "- **global_jitter**: 1e-3\n",
    "- **baseline_jitter**: <span style=\"color: red;\">1e-4</span>"
   ]
  },
  {
   "cell_type": "code",
   "execution_count": null,
   "id": "c28de963",
   "metadata": {},
   "outputs": [],
   "source": [
    "GLOBAL_JITTER_VALUE = 1e-3\n",
    "BASELINE_JITTER_VALUE = 1e-4"
   ]
  },
  {
   "cell_type": "code",
   "execution_count": null,
   "id": "cc1779c5",
   "metadata": {},
   "outputs": [],
   "source": [
    "SAVELOAD_PATH = \"model_11_b2.pt\""
   ]
  },
  {
   "cell_type": "markdown",
   "id": "647a580f",
   "metadata": {},
   "source": [
    "## 1.問題設定\n",
    "\n",
    "真の関数: フーリエ級数\n",
    "$$f(t) = \\frac{4}{\\pi} \\sum_{n=1}^{N} \\frac{1}{n} \\sin(nt), \\quad n = 1, 3, 5, \\ldots, \\quad t \\in [0, 1]$$\n",
    "※$N=15$\n",
    "\n",
    "データ: \n",
    "- 合計1,000件: 学習700件/検証150件/評価150件\n",
    "- tは$(-1,1)$から一様ランダムサンプリング\n",
    "\n",
    "モデル:\n",
    "- 2層のGPKAN: 入力1次元/中間層1次元/出力1次元\n",
    "    - それぞれのGPを(<1層目のindex>,<2層目のindex>)形式で表すことにすると、GPKANは$(0,0),(1,0)$の2つのGPで構成\n",
    "\n"
   ]
  },
  {
   "cell_type": "markdown",
   "id": "0bb52bac",
   "metadata": {},
   "source": [
    "## 2.メイン処理\n",
    "本ノートブックのメイン処理を実行する。実行順は以下の通り：\n",
    "\n",
    "2-1.データセット作成\n",
    "\n",
    "2-2.GPKANの学習\n",
    "\n",
    "2-3.精度評価\n",
    "\n",
    "2-4.学習中のカーネル行列ランク可視化"
   ]
  },
  {
   "cell_type": "markdown",
   "id": "f42526ca",
   "metadata": {},
   "source": [
    "### 2-1.データセット作成"
   ]
  },
  {
   "cell_type": "code",
   "execution_count": null,
   "id": "382f73b1",
   "metadata": {},
   "outputs": [],
   "source": [
    "# 初期設定: 必要なライブラリをインポートし、パスを設定\n",
    "import os\n",
    "import sys\n",
    "\n",
    "sys.path.append(\"../\")\n",
    "import japanize_matplotlib\n",
    "import torch.utils.data\n",
    "from lib import model as gplib\n",
    "from lib import runner\n",
    "from torch.utils.data import DataLoader"
   ]
  },
  {
   "cell_type": "code",
   "execution_count": null,
   "id": "c09f234c",
   "metadata": {},
   "outputs": [],
   "source": [
    "import random\n",
    "\n",
    "import matplotlib.pyplot as plt\n",
    "import numpy as np\n",
    "import torch\n",
    "from torch.utils.data import DataLoader, TensorDataset\n",
    "\n",
    "\n",
    "# Generate synthetic data with Fourier series function\n",
    "def set_seed(seed=42):\n",
    "    \"\"\"完全な再現性のための乱数シード設定\"\"\"\n",
    "    random.seed(seed)\n",
    "    np.random.seed(seed)\n",
    "    torch.manual_seed(seed)\n",
    "    if torch.cuda.is_available():\n",
    "        torch.cuda.manual_seed(seed)\n",
    "        torch.cuda.manual_seed_all(seed)\n",
    "\n",
    "\n",
    "def worker_init_fn(worker_id):\n",
    "    \"\"\"DataLoaderワーカープロセス用の乱数シード設定\"\"\"\n",
    "    worker_seed = torch.initial_seed() % 2**32\n",
    "    np.random.seed(worker_seed)\n",
    "    random.seed(worker_seed)\n",
    "\n",
    "\n",
    "set_seed(42)  # 全体の乱数シード設定\n",
    "num_samples = 1000\n",
    "\n",
    "# Generate random input points t from [-1, 1]\n",
    "t = np.random.uniform(-1, 1, num_samples)\n",
    "\n",
    "\n",
    "# Compute target values: f(t) = (4/π) * Σ(1/n * sin(nt)) for odd n up to N=15\n",
    "def fourier_series(t, N=15):\n",
    "    result = np.zeros_like(t)\n",
    "    for n in range(1, N + 1, 2):  # odd numbers only: 1, 3, 5, 7, 9, 11, 13, 15\n",
    "        result += (1 / n) * np.sin(n * t)\n",
    "    return (4 / np.pi) * result\n",
    "\n",
    "\n",
    "targets = fourier_series(t, N=15)\n",
    "\n",
    "# Reshape inputs (t is 1D, but we need it as 2D for compatibility)\n",
    "inputs = t.reshape(-1, 1)\n",
    "\n",
    "# Convert to PyTorch tensors\n",
    "X_tensor = torch.FloatTensor(inputs)\n",
    "y_tensor = torch.FloatTensor(targets).reshape(-1, 1)\n",
    "\n",
    "# Split data into train, validation, and test sets\n",
    "train_size = int(0.7 * num_samples)\n",
    "val_size = int(0.15 * num_samples)\n",
    "test_size = num_samples - train_size - val_size\n",
    "\n",
    "X_train = X_tensor[:train_size]\n",
    "y_train = y_tensor[:train_size]\n",
    "\n",
    "X_val = X_tensor[train_size : train_size + val_size]\n",
    "y_val = y_tensor[train_size : train_size + val_size]\n",
    "\n",
    "X_test = X_tensor[train_size + val_size :]\n",
    "y_test = y_tensor[train_size + val_size :]\n",
    "\n",
    "# データを昇順にソート（X_testとy_testを対応を保ちながら）\n",
    "sorted_indices = torch.argsort(X_test.squeeze())\n",
    "X_test = X_test[sorted_indices]\n",
    "y_test = y_test[sorted_indices]\n",
    "\n",
    "# Create datasets\n",
    "train_dataset = TensorDataset(X_train, y_train)\n",
    "val_dataset = TensorDataset(X_val, y_val)\n",
    "test_dataset = TensorDataset(X_test, y_test)\n",
    "\n",
    "# Create dataloaders\n",
    "batch_size = 32"
   ]
  },
  {
   "cell_type": "code",
   "execution_count": null,
   "id": "29c85760",
   "metadata": {},
   "outputs": [],
   "source": [
    "# Create dataloaders with reproducible worker processes\n",
    "generator = torch.Generator()\n",
    "generator.manual_seed(42)\n",
    "\n",
    "train_dataloader = DataLoader(\n",
    "    train_dataset,\n",
    "    batch_size=batch_size,\n",
    "    shuffle=True,\n",
    "    num_workers=0,  # Single process for reproducibility\n",
    "    worker_init_fn=worker_init_fn,\n",
    "    generator=generator,\n",
    ")\n",
    "val_dataloader = DataLoader(\n",
    "    val_dataset,\n",
    "    batch_size=batch_size,\n",
    "    shuffle=False,\n",
    "    num_workers=0,  # Single process for reproducibility\n",
    "    worker_init_fn=worker_init_fn,\n",
    "    generator=generator,\n",
    ")\n",
    "test_dataloader = DataLoader(\n",
    "    test_dataset,\n",
    "    batch_size=batch_size,\n",
    "    shuffle=False,\n",
    "    num_workers=0,  # Single process for reproducibility\n",
    "    worker_init_fn=worker_init_fn,\n",
    "    generator=generator,\n",
    ")"
   ]
  },
  {
   "cell_type": "code",
   "execution_count": null,
   "id": "f6f1e697",
   "metadata": {},
   "outputs": [
    {
     "name": "stdout",
     "output_type": "stream",
     "text": [
      "Train samples: 700\n",
      "Validation samples: 150\n",
      "Test samples: 150\n"
     ]
    },
    {
     "data": {
      "image/png": "[encoded data removed]",
      "text/plain": [
       "<Figure size 1000x600 with 1 Axes>"
      ]
     },
     "metadata": {},
     "output_type": "display_data"
    }
   ],
   "source": [
    "# サンプル数確認\n",
    "print(f\"Train samples: {len(train_dataset)}\")\n",
    "print(f\"Validation samples: {len(val_dataset)}\")\n",
    "print(f\"Test samples: {len(test_dataset)}\")\n",
    "\n",
    "# Fourier級数関数のプロット\n",
    "t_plot = np.linspace(-1, 1, 1000)\n",
    "y_plot = fourier_series(t_plot, N=15)\n",
    "plt.figure(figsize=(10, 6))\n",
    "plt.plot(t_plot, y_plot, \"b-\", label=\"Fourier Series (N=15)\")\n",
    "plt.scatter(t, targets, alpha=0.3, s=3, c=\"red\", label=\"Training Data\")\n",
    "plt.xlabel(\"t\")\n",
    "plt.ylabel(\"f(t)\")\n",
    "plt.title(\"Fourier Series Function\")\n",
    "plt.legend()\n",
    "plt.grid(True)\n",
    "plt.show()"
   ]
  },
  {
   "cell_type": "code",
   "execution_count": null,
   "id": "abeaf133",
   "metadata": {},
   "outputs": [
    {
     "data": {
      "image/png": "[encoded data removed]",
      "text/plain": [
       "<Figure size 1500x1000 with 1 Axes>"
      ]
     },
     "metadata": {},
     "output_type": "display_data"
    },
    {
     "name": "stdout",
     "output_type": "stream",
     "text": [
      "\n",
      "=== 値の分布特性 ===\n",
      "正の値の割合: 49.7%\n",
      "負の値の割合: 50.3%\n",
      "ゼロ近傍(-0.1 < y < 0.1)の割合: 1.3%\n"
     ]
    }
   ],
   "source": [
    "# y（目的変数）の分布をヒストグラムで可視化\n",
    "plt.figure(figsize=(15, 10))\n",
    "\n",
    "\n",
    "# 学習データのヒストグラム\n",
    "plt.subplot(1, 1, 1)\n",
    "plt.hist(\n",
    "    y_train.numpy().flatten(), bins=30, alpha=0.7, color=\"green\", edgecolor=\"black\"\n",
    ")\n",
    "plt.xlabel(\"y (target values)\")\n",
    "plt.ylabel(\"Frequency\")\n",
    "plt.title(\"Training Data Distribution\")\n",
    "plt.grid(True, alpha=0.3)\n",
    "\n",
    "plt.tight_layout()\n",
    "plt.show()\n",
    "\n",
    "\n",
    "# 値の分布特性\n",
    "print(f\"\\n=== 値の分布特性 ===\")\n",
    "print(f\"正の値の割合: {np.sum(targets > 0) / len(targets) * 100:.1f}%\")\n",
    "print(f\"負の値の割合: {np.sum(targets < 0) / len(targets) * 100:.1f}%\")\n",
    "print(\n",
    "    f\"ゼロ近傍(-0.1 < y < 0.1)の割合: {np.sum(np.abs(targets) < 0.1) / len(targets) * 100:.1f}%\"\n",
    ")"
   ]
  },
  {
   "cell_type": "markdown",
   "id": "a2c22c02",
   "metadata": {},
   "source": [
    "### 2-2.モデル学習"
   ]
  },
  {
   "cell_type": "code",
   "execution_count": null,
   "id": "ce700f0a",
   "metadata": {},
   "outputs": [
    {
     "data": {
      "text/plain": [
       "<torch._C.Generator at 0x122e46930>"
      ]
     },
     "execution_count": 8,
     "metadata": {},
     "output_type": "execute_result"
    }
   ],
   "source": [
    "num_gp_pts = 10  # Number of Gaussian Process points\n",
    "model = gplib.GP_Model(\n",
    "    [\n",
    "        gplib.LayerFused(1, 1, num_gp_pts),\n",
    "        gplib.LayerFused(1, 1, num_gp_pts),\n",
    "    ],\n",
    "    saveload_path=SAVELOAD_PATH,  # Path to save/load the model\n",
    ")\n",
    "np.random.seed(42)  # for reproducibility\n",
    "torch.manual_seed(42)"
   ]
  },
  {
   "cell_type": "code",
   "execution_count": null,
   "id": "2cffa3c6",
   "metadata": {},
   "outputs": [],
   "source": [
    "# 精度評価/可視化関数\n",
    "def plot_result(model):\n",
    "    # テストデータでの予測\n",
    "    with torch.no_grad():\n",
    "        # バッチごとに予測を行う\n",
    "        test_predictions = []\n",
    "        test_targets = []\n",
    "        test_variances = []\n",
    "\n",
    "        for X_batch, y_batch in test_dataloader:\n",
    "            pred = model.predict(X_batch).mean\n",
    "            var = model.predict(X_batch).var\n",
    "            test_predictions.append(pred)\n",
    "            test_variances.append(var)\n",
    "            test_targets.append(y_batch)\n",
    "\n",
    "        # 結果を結合\n",
    "        test_predictions = torch.cat(test_predictions, dim=0)\n",
    "        test_targets = torch.cat(test_targets, dim=0)\n",
    "        test_variances = torch.cat(test_variances, dim=0)\n",
    "\n",
    "    # MSE計算\n",
    "    mse = torch.mean((test_predictions - test_targets) ** 2)\n",
    "    rmse = torch.sqrt(mse)\n",
    "\n",
    "    print(f\"Test MSE: {mse.item():.6f}\")\n",
    "    print(f\"Test RMSE: {rmse.item():.6f}\")\n",
    "\n",
    "    # 可視化用のデータ準備\n",
    "    t_test = X_test.numpy().flatten()\n",
    "    y_test_true = y_test.numpy().flatten()\n",
    "    y_test_pred = test_predictions.numpy().flatten()\n",
    "\n",
    "    # 真の関数の連続プロット用\n",
    "    t_continuous = np.linspace(-1, 1, 500)\n",
    "    y_continuous = fourier_series(t_continuous, N=15)\n",
    "\n",
    "    # グラフ作成\n",
    "    plt.figure(figsize=(12, 8))\n",
    "\n",
    "    # 真の関数\n",
    "    plt.plot(\n",
    "        t_continuous,\n",
    "        y_continuous,\n",
    "        \"b-\",\n",
    "        linewidth=2,\n",
    "        label=\"True Function (Fourier Series)\",\n",
    "        alpha=0.8,\n",
    "    )\n",
    "\n",
    "    # テストデータの真値\n",
    "    plt.scatter(\n",
    "        t_test,\n",
    "        y_test_true,\n",
    "        c=\"red\",\n",
    "        s=30,\n",
    "        alpha=0.6,\n",
    "        label=\"Test Data (True)\",\n",
    "        marker=\"o\",\n",
    "    )\n",
    "\n",
    "    # 予測値\n",
    "    plt.scatter(\n",
    "        t_test, y_test_pred, c=\"green\", s=30, alpha=0.6, label=\"Predictions\", marker=\"x\"\n",
    "    )\n",
    "\n",
    "    # 予測の不確実性を帯で表示\n",
    "    lower_bound = y_test_pred - 1.96 * np.sqrt(test_variances.numpy().flatten())\n",
    "    upper_bound = y_test_pred + 1.96 * np.sqrt(test_variances.numpy().flatten())\n",
    "    plt.fill_between(\n",
    "        t_test,\n",
    "        lower_bound,\n",
    "        upper_bound,\n",
    "        color=\"lightgreen\",\n",
    "        alpha=0.3,\n",
    "        label=\"95% Prediction Interval\",\n",
    "    )\n",
    "\n",
    "    plt.xlabel(\"t\")\n",
    "    plt.ylabel(\"f(t)\")\n",
    "    plt.title(f\"GP-KAN Prediction vs True Function\\nTest RMSE: {rmse.item():.6f}\")\n",
    "    plt.legend()\n",
    "    plt.grid(True, alpha=0.3)\n",
    "    plt.show()\n",
    "\n",
    "    # 残差プロット\n",
    "    plt.figure(figsize=(10, 6))\n",
    "    residuals = y_test_pred - y_test_true\n",
    "    plt.scatter(t_test, residuals, c=\"purple\", s=30, alpha=0.6)\n",
    "    plt.axhline(y=0, color=\"red\", linestyle=\"--\", alpha=0.7)\n",
    "    plt.xlabel(\"t\")\n",
    "    plt.ylabel(\"Residuals (Predicted - True)\")\n",
    "    plt.title(\"Residual Plot\")\n",
    "    plt.grid(True, alpha=0.3)\n",
    "    plt.show()\n",
    "\n",
    "    # 残差の統計情報\n",
    "    print(f\"\\nResidual Statistics:\")\n",
    "    print(f\"Mean: {np.mean(residuals):.6f}\")\n",
    "    print(f\"Std: {np.std(residuals):.6f}\")\n",
    "    print(f\"Min: {np.min(residuals):.6f}\")\n",
    "    print(f\"Max: {np.max(residuals):.6f}\")\n",
    "\n",
    "    print(\"plot completed\")\n",
    "    return 0"
   ]
  },
  {
   "cell_type": "code",
   "execution_count": null,
   "id": "25d418be",
   "metadata": {},
   "outputs": [
    {
     "name": "stdout",
     "output_type": "stream",
     "text": [
      "epoch 0  , train negloglik: 281.14948,    val negloglik: 10.22408    accuracy: 1.1256 lr: [1e-05]\n",
      "\r"
     ]
    },
    {
     "ename": "_LinAlgError",
     "evalue": "linalg.cholesky: (Batch element 0): The factorization could not be completed because the input is not positive-definite (the leading minor of order 6 is not positive-definite).",
     "output_type": "error",
     "traceback": [
      "\u001b[0;31m---------------------------------------------------------------------------\u001b[0m",
      "\u001b[0;31m_LinAlgError\u001b[0m                              Traceback (most recent call last)",
      "Cell \u001b[0;32mIn[10], line 2\u001b[0m\n\u001b[1;32m      1\u001b[0m \u001b[38;5;28;01mfor\u001b[39;00m epoch \u001b[38;5;129;01min\u001b[39;00m \u001b[38;5;28mrange\u001b[39m(\u001b[38;5;241m1\u001b[39m):\n\u001b[0;32m----> 2\u001b[0m     \u001b[43mrunner\u001b[49m\u001b[38;5;241;43m.\u001b[39;49m\u001b[43mtrain_model\u001b[49m\u001b[43m(\u001b[49m\n\u001b[1;32m      3\u001b[0m \u001b[43m        \u001b[49m\u001b[43mtrain_dataloader\u001b[49m\u001b[43m,\u001b[49m\n\u001b[1;32m      4\u001b[0m \u001b[43m        \u001b[49m\u001b[43mval_dataloader\u001b[49m\u001b[43m,\u001b[49m\n\u001b[1;32m      5\u001b[0m \u001b[43m        \u001b[49m\u001b[43mmodel\u001b[49m\u001b[43m,\u001b[49m\n\u001b[1;32m      6\u001b[0m \u001b[43m        \u001b[49m\u001b[43mepochs\u001b[49m\u001b[38;5;241;43m=\u001b[39;49m\u001b[38;5;241;43m400\u001b[39;49m\u001b[43m,\u001b[49m\n\u001b[1;32m      7\u001b[0m \u001b[43m        \u001b[49m\u001b[43mlearning_rate\u001b[49m\u001b[38;5;241;43m=\u001b[39;49m\u001b[38;5;241;43m1e-5\u001b[39;49m\u001b[43m,\u001b[49m\n\u001b[1;32m      8\u001b[0m \u001b[43m        \u001b[49m\u001b[43muse_gpu\u001b[49m\u001b[38;5;241;43m=\u001b[39;49m\u001b[38;5;28;43;01mFalse\u001b[39;49;00m\u001b[43m,\u001b[49m\u001b[43m  \u001b[49m\u001b[38;5;66;43;03m# True,\u001b[39;49;00m\n\u001b[1;32m      9\u001b[0m \u001b[43m        \u001b[49m\u001b[43mpretrain\u001b[49m\u001b[38;5;241;43m=\u001b[39;49m\u001b[38;5;28;43;01mFalse\u001b[39;49;00m\u001b[43m,\u001b[49m\u001b[43m  \u001b[49m\u001b[38;5;66;43;03m# True,\u001b[39;49;00m\n\u001b[1;32m     10\u001b[0m \u001b[43m        \u001b[49m\u001b[43mglobal_jitter\u001b[49m\u001b[38;5;241;43m=\u001b[39;49m\u001b[43mGLOBAL_JITTER_VALUE\u001b[49m\u001b[43m,\u001b[49m\n\u001b[1;32m     11\u001b[0m \u001b[43m        \u001b[49m\u001b[43mbaseline_jitter\u001b[49m\u001b[38;5;241;43m=\u001b[39;49m\u001b[43mBASELINE_JITTER_VALUE\u001b[49m\u001b[43m,\u001b[49m\n\u001b[1;32m     12\u001b[0m \u001b[43m    \u001b[49m\u001b[43m)\u001b[49m\n\u001b[1;32m     13\u001b[0m     model\u001b[38;5;241m.\u001b[39msave_model()  \u001b[38;5;66;03m# optionally save the model after training\u001b[39;00m\n\u001b[1;32m     15\u001b[0m     \u001b[38;5;66;03m# 可視化\u001b[39;00m\n",
      "File \u001b[0;32m~/Desktop/workdir_gpkan/gpkan/demo/../lib/runner.py:163\u001b[0m, in \u001b[0;36mtrain_model\u001b[0;34m(train_dataloader, val_dataloader, model, epochs, learning_rate, global_jitter, baseline_jitter, pretrain, use_gpu, save_tmp, reuse_log, log_path)\u001b[0m\n\u001b[1;32m    161\u001b[0m     train_features \u001b[38;5;241m=\u001b[39m train_features\u001b[38;5;241m.\u001b[39mcuda()\n\u001b[1;32m    162\u001b[0m     train_targets \u001b[38;5;241m=\u001b[39m train_targets\u001b[38;5;241m.\u001b[39mcuda()\n\u001b[0;32m--> 163\u001b[0m model_out \u001b[38;5;241m=\u001b[39m \u001b[43mmodel\u001b[49m\u001b[38;5;241;43m.\u001b[39;49m\u001b[43mpredict\u001b[49m\u001b[43m(\u001b[49m\u001b[43mtrain_features\u001b[49m\u001b[43m)\u001b[49m\n\u001b[1;32m    164\u001b[0m \u001b[38;5;28;01massert\u001b[39;00m utils\u001b[38;5;241m.\u001b[39msame_shape(model_out\u001b[38;5;241m.\u001b[39mmean\u001b[38;5;241m.\u001b[39mshape, train_targets\u001b[38;5;241m.\u001b[39mshape)\n\u001b[1;32m    165\u001b[0m loglik \u001b[38;5;241m=\u001b[39m utils\u001b[38;5;241m.\u001b[39mlog_likelihood(model_out\u001b[38;5;241m.\u001b[39mmean, model_out\u001b[38;5;241m.\u001b[39mvar, train_targets)\n",
      "File \u001b[0;32m~/Desktop/workdir_gpkan/gpkan/demo/../lib/model.py:145\u001b[0m, in \u001b[0;36mGP_Model.predict\u001b[0;34m(self, x)\u001b[0m\n\u001b[1;32m    141\u001b[0m \u001b[38;5;250m\u001b[39m\u001b[38;5;124;03m\"\"\"\u001b[39;00m\n\u001b[1;32m    142\u001b[0m \u001b[38;5;124;03mrun a provided deterministic input through the layers to do a prediction\u001b[39;00m\n\u001b[1;32m    143\u001b[0m \u001b[38;5;124;03m\"\"\"\u001b[39;00m\n\u001b[1;32m    144\u001b[0m noise \u001b[38;5;241m=\u001b[39m \u001b[38;5;28mself\u001b[39m\u001b[38;5;241m.\u001b[39mget_input_noise() \u001b[38;5;241m*\u001b[39m\u001b[38;5;241m*\u001b[39m \u001b[38;5;241m2\u001b[39m\n\u001b[0;32m--> 145\u001b[0m \u001b[38;5;28;01mreturn\u001b[39;00m \u001b[38;5;28;43mself\u001b[39;49m\u001b[38;5;241;43m.\u001b[39;49m\u001b[43mforward\u001b[49m\u001b[43m(\u001b[49m\u001b[43mGP_dist\u001b[49m\u001b[43m(\u001b[49m\u001b[43mx\u001b[49m\u001b[43m,\u001b[49m\u001b[43m \u001b[49m\u001b[43mnoise\u001b[49m\u001b[43m \u001b[49m\u001b[38;5;241;43m*\u001b[39;49m\u001b[43m \u001b[49m\u001b[43mtorch\u001b[49m\u001b[38;5;241;43m.\u001b[39;49m\u001b[43mones_like\u001b[49m\u001b[43m(\u001b[49m\u001b[43mx\u001b[49m\u001b[43m)\u001b[49m\u001b[43m)\u001b[49m\u001b[43m)\u001b[49m\n",
      "File \u001b[0;32m~/Desktop/workdir_gpkan/gpkan/demo/../lib/model.py:136\u001b[0m, in \u001b[0;36mGP_Model.forward\u001b[0;34m(self, x)\u001b[0m\n\u001b[1;32m    134\u001b[0m intermediate \u001b[38;5;241m=\u001b[39m x\n\u001b[1;32m    135\u001b[0m \u001b[38;5;28;01mfor\u001b[39;00m layer \u001b[38;5;129;01min\u001b[39;00m \u001b[38;5;28mself\u001b[39m\u001b[38;5;241m.\u001b[39mlayers:\n\u001b[0;32m--> 136\u001b[0m     out_intermediate \u001b[38;5;241m=\u001b[39m \u001b[43mlayer\u001b[49m\u001b[38;5;241;43m.\u001b[39;49m\u001b[43mforward\u001b[49m\u001b[43m(\u001b[49m\u001b[43mintermediate\u001b[49m\u001b[43m)\u001b[49m\n\u001b[1;32m    137\u001b[0m     intermediate \u001b[38;5;241m=\u001b[39m out_intermediate\n\u001b[1;32m    138\u001b[0m \u001b[38;5;28;01mreturn\u001b[39;00m intermediate\n",
      "File \u001b[0;32m~/Desktop/workdir_gpkan/gpkan/demo/../lib/layer.py:173\u001b[0m, in \u001b[0;36mLayerFused.forward\u001b[0;34m(self, x)\u001b[0m\n\u001b[1;32m    163\u001b[0m Q_hh_noise \u001b[38;5;241m=\u001b[39m Q_hh \u001b[38;5;241m+\u001b[39m (\n\u001b[1;32m    164\u001b[0m     (jitter\u001b[38;5;241m*\u001b[39m\u001b[38;5;241m*\u001b[39m\u001b[38;5;241m2\u001b[39m)\n\u001b[1;32m    165\u001b[0m     \u001b[38;5;241m/\u001b[39m (\n\u001b[0;32m   (...)\u001b[0m\n\u001b[1;32m    169\u001b[0m     )\n\u001b[1;32m    170\u001b[0m ) \u001b[38;5;241m*\u001b[39m torch\u001b[38;5;241m.\u001b[39mdiag_embed(torch\u001b[38;5;241m.\u001b[39mones(\u001b[38;5;241m1\u001b[39m, I, O, P), dim1\u001b[38;5;241m=\u001b[39m\u001b[38;5;241m-\u001b[39m\u001b[38;5;241m2\u001b[39m, dim2\u001b[38;5;241m=\u001b[39m\u001b[38;5;241m-\u001b[39m\u001b[38;5;241m1\u001b[39m)\u001b[38;5;241m.\u001b[39mto(Q_hh\u001b[38;5;241m.\u001b[39mdevice)\n\u001b[1;32m    172\u001b[0m \u001b[38;5;66;03m# L: (1, I, O, P, P)\u001b[39;00m\n\u001b[0;32m--> 173\u001b[0m L \u001b[38;5;241m=\u001b[39m \u001b[43mtorch\u001b[49m\u001b[38;5;241;43m.\u001b[39;49m\u001b[43mlinalg\u001b[49m\u001b[38;5;241;43m.\u001b[39;49m\u001b[43mcholesky\u001b[49m\u001b[43m(\u001b[49m\u001b[43mQ_hh_noise\u001b[49m\u001b[43m)\u001b[49m  \u001b[38;5;66;03m# pylint: disable=not-callable\u001b[39;00m\n\u001b[1;32m    174\u001b[0m L_inv \u001b[38;5;241m=\u001b[39m torch\u001b[38;5;241m.\u001b[39mlinalg\u001b[38;5;241m.\u001b[39minv(L)  \u001b[38;5;66;03m# pylint: disable=not-callable\u001b[39;00m\n\u001b[1;32m    175\u001b[0m L_inv_T \u001b[38;5;241m=\u001b[39m torch\u001b[38;5;241m.\u001b[39mtranspose(L_inv, \u001b[38;5;241m-\u001b[39m\u001b[38;5;241m1\u001b[39m, \u001b[38;5;241m-\u001b[39m\u001b[38;5;241m2\u001b[39m)\n",
      "\u001b[0;31m_LinAlgError\u001b[0m: linalg.cholesky: (Batch element 0): The factorization could not be completed because the input is not positive-definite (the leading minor of order 6 is not positive-definite)."
     ]
    }
   ],
   "source": [
    "for epoch in range(1):\n",
    "    runner.train_model(\n",
    "        train_dataloader,\n",
    "        val_dataloader,\n",
    "        model,\n",
    "        epochs=400,\n",
    "        learning_rate=1e-5,\n",
    "        use_gpu=False,  # True,\n",
    "        pretrain=False,  # True,\n",
    "        global_jitter=GLOBAL_JITTER_VALUE,\n",
    "        baseline_jitter=BASELINE_JITTER_VALUE,\n",
    "    )\n",
    "    model.save_model()  # optionally save the model after training\n",
    "\n",
    "    # 可視化\n",
    "    plot_result(model)"
   ]
  },
  {
   "cell_type": "markdown",
   "id": "f71f6c73",
   "metadata": {},
   "source": [
    "## 2-3.結果評価\n",
    "以下の項目に従ってカーネル行列の分析結果をまとめる：\n",
    "\n",
    "### 考察\n",
    "BASELINE_JITTER項が小さくなったことでノイズ項つきカーネル行列の正定値性を保持しにくくなり、\n",
    "パラメータ更新時の逆行列計算に失敗してしまったと考えられる"
   ]
  },
  {
   "cell_type": "markdown",
   "id": "94d57428",
   "metadata": {},
   "source": []
  },
  {
   "cell_type": "markdown",
   "id": "849ffd3f",
   "metadata": {},
   "source": []
  }
 ],
 "metadata": {
  "kernelspec": {
   "display_name": ".venv",
   "language": "python",
   "name": "python3"
  },
  "language_info": {
   "codemirror_mode": {
    "name": "ipython",
    "version": 3
   },
   "file_extension": ".py",
   "mimetype": "text/x-python",
   "name": "python",
   "nbconvert_exporter": "python",
   "pygments_lexer": "ipython3",
   "version": "3.11.9"
  }
 },
 "nbformat": 4,
 "nbformat_minor": 5
}
